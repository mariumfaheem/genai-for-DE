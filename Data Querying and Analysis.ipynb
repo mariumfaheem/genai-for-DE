{
 "cells": [
  {
   "cell_type": "markdown",
   "metadata": {},
   "source": [
    "# Data Querying and Analysis\n",
    "\n",
    "## Table of Contents\n",
    "1. Introduction\n",
    "2. Examples\n",
    "3. References and Further Reading"
   ]
  },
  {
   "cell_type": "markdown",
   "metadata": {},
   "source": [
    "<a id='2'></a>\n",
    "## 1. Introduction\n",
    "\n",
    "Generative AI can be used in various ways for Natural Language Querying, specifically for converting English to SQL:\n",
    "\n",
    "1. **Direct Translation**: Converting natural language questions into SQL queries.\n",
    "2. **Query Optimization**: Improving existing SQL queries based on natural language descriptions.\n",
    "3. **Schema Understanding**: Interpreting database schemas from natural language descriptions.\n",
    "4. **Error Correction**: Identifying and fixing errors in SQL queries based on natural language feedback.\n",
    "5. 1. Query Translation: Converting natural language questions into formal query languages like SQL.\n",
    "2. Query Generation: Creating complex queries based on high-level descriptions of data needs.\n",
    "3. Result Interpretation: Translating query results into human-readable explanations.\n",
    "4. Schema Understanding: Analyzing database schemas to inform query generation.\n",
    "5. Error Handling: Identifying and explaining errors in queries or results.\n",
    "\n",
    "Using Gen AI for this task offers several benefits:\n",
    "- Increased accessibility for non-technical users\n",
    "- Faster query development\n",
    "- Reduced errors in complex queries\n",
    "- Improved data exploration capabilities\n",
    "\n",
    "**Key Terminology**:\n",
    "- **Natural Language Processing (NLP)**: The branch of AI that deals with the interaction between computers and humans using natural language.\n",
    "- **SQL (Structured Query Language)**: A standard language for managing and manipulating relational databases.\n",
    "- **Schema**: The structure of a database, defining tables, fields, relationships, and constraints."
   ]
  },
  {
   "cell_type": "code",
   "execution_count": null,
   "metadata": {},
   "outputs": [],
   "source": [
    "!pip install openai pandas scikit-learn matplotlib"
   ]
  },
  {
   "cell_type": "code",
   "execution_count": null,
   "metadata": {},
   "outputs": [],
   "source": [
    "import openai\n",
    "import os\n",
    "import json\n",
    "import pandas as pd\n",
    "from openai import OpenAI\n",
    "\n",
    "# Set up OpenAI API key\n",
    "client = OpenAI(api_key='')\n",
    "\n",
    "def clean(dict_variable):\n",
    "    return next(iter(dict_variable.values()))"
   ]
  },
  {
   "cell_type": "markdown",
   "metadata": {},
   "source": [
    "<a id='3'></a>\n",
    "## 2. Example 1: Simple Query Conversion"
   ]
  },
  {
   "cell_type": "code",
   "execution_count": null,
   "metadata": {},
   "outputs": [],
   "source": [
    "response = client.chat.completions.create(\n",
    "    model=\"gpt-4o-mini\",\n",
    "    messages=[\n",
    "        {\"role\": \"system\", \"content\": \"You are a SQL expert. Convert English queries to SQL.\"},\n",
    "        {\"role\": \"user\", \"content\": \"Convert this English query to SQL and output in JSON form: Find top 5 customers by revenue.\"}\n",
    "    ],\n",
    "    response_format={\"type\": \"json_object\"}\n",
    ")\n",
    "\n",
    "print(response.choices[0].message.content)"
   ]
  },
  {
   "cell_type": "code",
   "execution_count": null,
   "metadata": {},
   "outputs": [],
   "source": [
    "schema = \"\"\"\n",
    "\n",
    "sales\n",
    "order_id\n",
    "customer_id\n",
    "sales\n",
    "\n",
    "customer\n",
    "customer_code\n",
    "customer_name\n",
    "\n",
    "\"\"\"\n",
    "\n",
    "\n",
    "response = client.chat.completions.create(\n",
    "    model=\"gpt-4o-mini\",\n",
    "    messages=[\n",
    "        {\"role\": \"system\", \"content\": \"You are a SQL expert. Convert English queries to SQL.\"},\n",
    "        {\"role\": \"user\", \"content\": \"Convert this English query to SQL and output in JSON form: Find top 5 customers (customer names) by sales. The schema of this database is: {}\".format(schema)}\n",
    "    ],\n",
    "    response_format={\"type\": \"json_object\"}\n",
    ")\n",
    "\n",
    "print(response.choices[0].message.content)"
   ]
  },
  {
   "cell_type": "markdown",
   "metadata": {},
   "source": [
    "This example demonstrates how Gen AI can convert a simple English query into SQL. The JSON output makes it easy for data engineers to parse and integrate the result into their workflows."
   ]
  },
  {
   "cell_type": "markdown",
   "metadata": {},
   "source": [
    "<a id='5'></a>\n",
    "## 2. Example 2: Query Optimization and Cleaning"
   ]
  },
  {
   "cell_type": "code",
   "execution_count": null,
   "metadata": {},
   "outputs": [],
   "source": [
    "bad_query = \"\"\"\n",
    "SELECT * FROM orders WHERE order_date > '2023-01-01' AND customer_id IN (SELECT customer_id FROM customers WHERE country = 'USA')\n",
    "\"\"\"\n",
    "\n",
    "response = client.chat.completions.create(\n",
    "    model=\"gpt-4o-mini\",\n",
    "    messages=[\n",
    "        {\"role\": \"system\", \"content\": \"You are a SQL expert. Optimize SQL queries based on natural language descriptions.\"},\n",
    "        {\"role\": \"user\", \"content\": \"Optimize this SQL query and output in JSON form: {} Optimization goal: Improve performance for a large dataset.\".format(bad_query)}\n",
    "    ],\n",
    "    response_format={\"type\": \"json_object\"}\n",
    ")\n",
    "\n",
    "print(json.loads(response.choices[0].message.content))"
   ]
  },
  {
   "cell_type": "code",
   "execution_count": null,
   "metadata": {},
   "outputs": [],
   "source": [
    "bad_query = \"\"\"\n",
    "SELECT *\n",
    "FROM (\n",
    "    SELECT c3.id, c3.date, c3.amt, c3.prod_name, c3.region, e.emp_name\n",
    "    FROM region c3\n",
    "    JOIN employees e ON c3.id = e.id\n",
    "    WHERE e.active = 1\n",
    ") AS subquery\n",
    "JOIN (\n",
    "    SELECT AVG(s.amt) AS avg_amt\n",
    "    FROM sales s\n",
    ") AS subquery2 ON subquery.amt > subquery2.avg_amt;\n",
    "\"\"\"\n",
    "\n",
    "response = client.chat.completions.create(\n",
    "    model=\"gpt-4o-mini\",\n",
    "    messages=[\n",
    "        {\"role\": \"system\", \"content\": \"You are a SQL expert. Given a SQL query, make it more readable. You may split the query into multiple steps with temp tables, and add naming conventions / column names. \\\n",
    "            Avoid complex joins and nested CTEs.\"},\n",
    "        {\"role\": \"user\", \"content\": \"make it more readable. You may split the query into multiple steps with temp tables, and add naming conventions / column names. \\\n",
    "            Avoid complex joins and nested CTEs. Output in JSON form: {}\".format(bad_query)}\n",
    "    ],\n",
    "    response_format={\"type\": \"json_object\"}\n",
    ")\n",
    "\n",
    "good_query = clean(json.loads(response.choices[0].message.content))"
   ]
  },
  {
   "cell_type": "code",
   "execution_count": null,
   "metadata": {},
   "outputs": [],
   "source": [
    "good_query"
   ]
  },
  {
   "cell_type": "code",
   "execution_count": null,
   "metadata": {},
   "outputs": [],
   "source": [
    "for g in good_query:\n",
    "    print (g)\n",
    "    print('----')"
   ]
  },
  {
   "cell_type": "markdown",
   "metadata": {},
   "source": [
    "## 2. Example 3: Query Result Interpretation"
   ]
  },
  {
   "cell_type": "code",
   "execution_count": null,
   "metadata": {},
   "outputs": [],
   "source": [
    "# Simulated query result\n",
    "query_result = \"\"\"\n",
    "| product_category | total_sales |\n",
    "|-------------------|-------------|\n",
    "| Electronics      | 1500000     |\n",
    "| Clothing         | 980000      |\n",
    "| Home & Garden    | 750000      |\n",
    "| Books            | 320000      |\n",
    "| Toys             | 280000      |\n",
    "\"\"\"\n",
    "\n",
    "prompt = f\"Interpret the following query result and provide insights. Here's the result:\\n{query_result}\"\n",
    "\n",
    "response = client.chat.completions.create(\n",
    "    model=\"gpt-4o-mini\",\n",
    "    messages=[{\"role\": \"user\", \"content\": prompt}]\n",
    ")\n",
    "\n",
    "print(response.choices[0].message.content)"
   ]
  },
  {
   "cell_type": "markdown",
   "metadata": {},
   "source": [
    "<a id='4'></a>\n",
    "## 2. Example 4: Generating Insights from Query Results"
   ]
  },
  {
   "cell_type": "code",
   "execution_count": null,
   "metadata": {},
   "outputs": [],
   "source": [
    "prompt = \"\"\"Based on the following query result, suggest 3 relevant follow-up questions for further analysis:\n",
    "{\n",
    "  \"category\": [\"Electronics\", \"Clothing\", \"Books\"],\n",
    "  \"total_sales\": [500000, 300000, 100000]\n",
    "}\"\"\"\n",
    "\n",
    "response = client.chat.completions.create(\n",
    "    model=\"gpt-4o-mini\",\n",
    "    messages=[{\"role\": \"user\", \"content\": prompt}]\n",
    ")\n",
    "\n",
    "print(response.choices[0].message.content)"
   ]
  },
  {
   "cell_type": "markdown",
   "metadata": {},
   "source": [
    "This example demonstrates how Gen AI can assist in query optimization, a crucial skill for data engineers working with large datasets and complex database structures."
   ]
  },
  {
   "cell_type": "markdown",
   "metadata": {},
   "source": [
    "<a id='7'></a>\n",
    "## 3. References and Further Reading\n",
    "\n",
    "1. OpenAI API Documentation: https://platform.openai.com/docs/\n",
    "2. \"Natural Language to SQL: A Survey\" by Xu et al. (2022): https://arxiv.org/abs/2201.00307\n",
    "3. \"Improving Text-to-SQL Evaluation Methodology\" by Zhong et al. (2020): https://arxiv.org/abs/1806.09029\n",
    "4. SQL Performance Tuning by Peter Gulutzan and Trudy Pelzer\n",
    "5. \"Fundamentals of Database Systems\" by Ramez Elmasri and Shamkant Navathe"
   ]
  }
 ],
 "metadata": {
  "kernelspec": {
   "display_name": "Python 3 (ipykernel)",
   "language": "python",
   "name": "python3"
  },
  "language_info": {
   "codemirror_mode": {
    "name": "ipython",
    "version": 3
   },
   "file_extension": ".py",
   "mimetype": "text/x-python",
   "name": "python",
   "nbconvert_exporter": "python",
   "pygments_lexer": "ipython3",
   "version": "3.10.6"
  }
 },
 "nbformat": 4,
 "nbformat_minor": 4
}
