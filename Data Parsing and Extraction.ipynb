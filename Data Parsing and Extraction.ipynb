{
 "cells": [
  {
   "cell_type": "markdown",
   "metadata": {},
   "source": [
    "# Data Parsing and Extraction\n",
    "\n",
    "## Table of Contents\n",
    "1. Introduction\n",
    "2. Examples\n",
    "3. References and Further Reading"
   ]
  },
  {
   "cell_type": "markdown",
   "metadata": {},
   "source": [
    "<a id='0'></a>\n",
    "## 1. Introduction"
   ]
  },
  {
   "cell_type": "markdown",
   "metadata": {},
   "source": [
    "Generative AI, particularly large language models like GPT-4, can be incredibly useful for data generation and augmentation:\n",
    "\n",
    "1. **Data Extraction**: Extracting data from contracts (structured and unstructured).\n",
    "2. **Structure Recognition**: Understanding the structure of documents and identifying relevant sections.\n",
    "3. **Data Standardization**: Converting extracted data into a consistent format.\n",
    "4. **Contextual Understanding**: Interpreting complex clauses and conditions in contracts.\n",
    "5. **Anomaly Detection**: Identifying unusual terms or discrepancies in documents.\n",
    "6. **HTML Parsing**: Gen AI can analyze HTML structure and extract relevant information.\n",
    "7. **Natural Language Understanding**: It can interpret and extract data from unstructured text.\n",
    "8. **Data Cleaning**: Gen AI can clean and format extracted data.\n",
    "9. **Adaptive Scraping**: It can adjust to different website layouts and structures.\n",
    "10. **Data Transformation**: Gen AI can convert extracted data into structured formats like JSON or CSV.\n",
    "\n",
    "### Key Terminology:\n",
    "- **Document Parsing**: The process of extracting structured information from unstructured or semi-structured documents.\n",
    "- **Named Entity Recognition (NER)**: Identifying and classifying key information in text into predefined categories.\n",
    "- **Information Extraction**: The task of automatically extracting structured information from unstructured or semi-structured documents.\n",
    "- **Entity**: A real-world object, such as a person, location, or organization, mentioned in text.\n",
    "- **Named Entity Recognition (NER)**: The process of identifying and classifying named entities in text.\n",
    "- **Unstructured Data**: Data that doesn't have a predefined data model or organization.\n",
    "\n",
    "For a data engineer, this capability is invaluable as it automates the tedious process of manual data entry and standardization, allowing for quicker analysis and insights generation."
   ]
  },
  {
   "cell_type": "code",
   "execution_count": null,
   "metadata": {},
   "outputs": [],
   "source": [
    "!pip install openai pandas"
   ]
  },
  {
   "cell_type": "code",
   "execution_count": null,
   "metadata": {},
   "outputs": [],
   "source": [
    "import openai\n",
    "import os\n",
    "import json\n",
    "import pandas as pd\n",
    "from openai import OpenAI\n",
    "\n",
    "# Set up OpenAI API key\n",
    "client = OpenAI(api_key='')\n",
    "\n",
    "def clean(dict_variable):\n",
    "    return next(iter(dict_variable.values()))"
   ]
  },
  {
   "cell_type": "markdown",
   "metadata": {},
   "source": [
    "<a id='2'></a>\n",
    "## 2. Example 1: Parsing a Simple Invoice"
   ]
  },
  {
   "cell_type": "code",
   "execution_count": null,
   "metadata": {},
   "outputs": [],
   "source": [
    "# Sample invoice text\n",
    "invoice_text = \"\"\"\n",
    "Date: 5/15/23\n",
    "John Doe\n",
    "Invoice #: INV-2023-001\n",
    "Items:\n",
    "Website Design - $1000\n",
    "Logo Creation - $500.00\n",
    "SEO Services - $750\n",
    "Total: $2250\n",
    "\"\"\"\n",
    "\n",
    "# Make API call\n",
    "response = client.chat.completions.create(\n",
    "    model=\"gpt-4o-mini\",\n",
    "    messages=[{\n",
    "        \"role\": \"user\",\n",
    "        \"content\": f\"Parse the following invoice and output in JSON form: {invoice_text}\"\n",
    "    }],\n",
    "    response_format={\"type\": \"json_object\"}\n",
    ")\n",
    "\n",
    "# Extract and parse the JSON response\n",
    "parsed_invoice = json.loads(response.choices[0].message.content)\n",
    "\n",
    "print(json.dumps(parsed_invoice, indent=2))"
   ]
  },
  {
   "cell_type": "code",
   "execution_count": null,
   "metadata": {},
   "outputs": [],
   "source": [
    "response = client.chat.completions.create(\n",
    "    model=\"gpt-4o-mini\",\n",
    "    messages=[{\n",
    "        \"role\": \"user\",\n",
    "        \"content\": f\"Parse the following invoice and output in JSON form: {invoice_text}. The columns should be Invoice Number, Invoice Date, Total, and Number of Products. The JSON should be able to go into a \\\n",
    "        Pandas dataframe.\"\n",
    "    }],\n",
    "    response_format={\"type\": \"json_object\"}\n",
    ")\n",
    "\n",
    "# Extract and parse the JSON response\n",
    "parsed_invoice = json.loads(response.choices[0].message.content)\n",
    "print(parsed_invoice)"
   ]
  },
  {
   "cell_type": "code",
   "execution_count": null,
   "metadata": {},
   "outputs": [],
   "source": [
    "response = client.chat.completions.create(\n",
    "    model=\"gpt-4o-mini\",\n",
    "    messages=[{\n",
    "        \"role\": \"user\",\n",
    "        \"content\": f\"Parse the following invoice and output in JSON form: {invoice_text}. The columns should be Invoice Number, Invoice Date, Total, and Number of Products. The JSON should be able to go into a \\\n",
    "        Pandas dataframe.\"\n",
    "    }],\n",
    "    response_format={\"type\": \"json_object\"}\n",
    ")\n",
    "\n",
    "# Extract and parse the JSON response\n",
    "parsed_invoice = json.loads(response.choices[0].message.content)\n",
    "print(parsed_invoice)"
   ]
  },
  {
   "cell_type": "code",
   "execution_count": null,
   "metadata": {},
   "outputs": [],
   "source": [
    "json.loads(response.choices[0].message.content)"
   ]
  },
  {
   "cell_type": "markdown",
   "metadata": {},
   "source": [
    "<a id='3'></a>\n",
    "## 2. Example 2: Extracting Data from a Complex Contract"
   ]
  },
  {
   "cell_type": "code",
   "execution_count": null,
   "metadata": {},
   "outputs": [],
   "source": [
    "contract_text = \"\"\"\n",
    "SERVICE AGREEMENT #1\n",
    "\n",
    "This Service Agreement (the \"Agreement\") is entered into on June 1, 2023 (the \"Effective Date\") by and between:\n",
    "\n",
    "ABC Corp., a corporation organized under the laws of Delaware, with its principal place of business at 123 Main St, Anytown, USA (\"Service Provider\")\n",
    "\n",
    "and\n",
    "\n",
    "XYZ Inc., a corporation organized under the laws of California, with its principal place of business at 456 Oak Ave, Otherville, USA (\"Client\")\n",
    "\n",
    "1. SERVICES\n",
    "   Service Provider agrees to provide the following services to Client:\n",
    "   a) Software development\n",
    "   b) System maintenance\n",
    "   c) Technical support\n",
    "\n",
    "2. TERM\n",
    "   This Agreement shall commence on the Effective Date and continue for a period of 24 months.\n",
    "\n",
    "3. COMPENSATION\n",
    "   Client agrees to pay Service Provider a monthly fee of $10,000 for the services provided.\n",
    "\n",
    "4. TERMINATION\n",
    "   Either party may terminate this Agreement with 30 days written notice.\n",
    "\n",
    "\n",
    "SERVICE AGREEMENT #2\n",
    "\n",
    "This Service Agreement (the \"Agreement\") is entered into on April 1, 2023 (the \"Effective Date\") by and between:\n",
    "\n",
    "Henry Cookies., a corporation organized under the laws of Delaware, with its principal place of business at 123 Main St, Anytown, USA (\"Service Provider\")\n",
    "\n",
    "and\n",
    "\n",
    "XYZ Inc., a corporation organized under the laws of California, with its principal place of business at 456 Oak Ave, Otherville, USA (\"Client\")\n",
    "\n",
    "1. SERVICES\n",
    "   Service Provider agrees to provide the following services to Client:\n",
    "   a) Software development\n",
    "   b) System maintenance\n",
    "   c) Technical support\n",
    "\n",
    "2. TERM\n",
    "   This Agreement shall commence on the Effective Date and continue for a period of 8 months.\n",
    "\n",
    "3. COMPENSATION\n",
    "   Client agrees to pay Service Provider a monthly fee of $50,000 for the services provided.\n",
    "\n",
    "4. TERMINATION\n",
    "   Either party may terminate this Agreement with 30 days written notice.\n",
    "\n",
    "   \n",
    "\"\"\"\n",
    "\n",
    "response = client.chat.completions.create(\n",
    "    model=\"gpt-4o-mini\",\n",
    "    messages=[{\n",
    "        \"role\": \"user\",\n",
    "        \"content\": f\"Extract key information from the following contract and output in JSON form: {contract_text}\"\n",
    "    }],\n",
    "    response_format={\"type\": \"json_object\"}\n",
    ")\n",
    "\n",
    "parsed_contract = json.loads(response.choices[0].message.content)\n",
    "print(json.dumps(parsed_contract, indent=2))"
   ]
  },
  {
   "cell_type": "code",
   "execution_count": null,
   "metadata": {},
   "outputs": [],
   "source": [
    "response = client.chat.completions.create(\n",
    "    model=\"gpt-4o-mini\",\n",
    "    messages=[{\n",
    "        \"role\": \"user\",\n",
    "        \"content\": f\"Extract key information from the following contract and output in JSON form, and extract columns company name, date, compensation, term: {contract_text}\"\n",
    "    }],\n",
    "    response_format={\"type\": \"json_object\"}\n",
    ")\n",
    "\n",
    "parsed_contract = json.loads(response.choices[0].message.content)\n",
    "print(json.dumps(parsed_contract, indent=2))"
   ]
  },
  {
   "cell_type": "code",
   "execution_count": null,
   "metadata": {},
   "outputs": [],
   "source": [
    "# Convert to DataFrame\n",
    "df_contract = pd.DataFrame(clean(parsed_contract))\n",
    "print(df_contract)"
   ]
  },
  {
   "cell_type": "markdown",
   "metadata": {},
   "source": [
    "<a id='4'></a>\n",
    "## 2. Example 3: Batch Processing of Multiple Documents"
   ]
  },
  {
   "cell_type": "code",
   "execution_count": null,
   "metadata": {},
   "outputs": [],
   "source": [
    "documents = [\n",
    "    \"\"\"\n",
    "    Invoice #: INV-2023-002\n",
    "    Date: June 1, 2023\n",
    "    Bill To: Jane Smith\n",
    "    Items:\n",
    "    1. Mobile App Development - $5000\n",
    "    2. UI/UX Design - $2000\n",
    "    Total: $7000\n",
    "    \"\"\",\n",
    "    \"\"\"\n",
    "    Invoice #: INV-2023-003\n",
    "    Date: June 15, 2023\n",
    "    Bill To: Acme Corp\n",
    "    Items:\n",
    "    1. Cloud Migration Services - $10000\n",
    "    2. Staff Training - $3000\n",
    "    3. Ongoing Support (3 months) - $4500\n",
    "    Total: $17500\n",
    "    \"\"\"\n",
    "]\n",
    "\n",
    "parsed_documents = []\n",
    "\n",
    "for doc in documents:\n",
    "    response = client.chat.completions.create(\n",
    "        model=\"gpt-4-0125-preview\",\n",
    "        messages=[{\n",
    "            \"role\": \"user\",\n",
    "            \"content\": f\"Parse the following invoice and output in JSON form: The columns should be Invoice Number, Invoice Date, Total, and Number of Products. The JSON should be able to go into a  {doc}\"\n",
    "        }],\n",
    "        response_format={\"type\": \"json_object\"}\n",
    "    )\n",
    "    parsed_documents.append(json.loads(response.choices[0].message.content))\n",
    "\n",
    "print(json.dumps(parsed_documents, indent=2))"
   ]
  },
  {
   "cell_type": "code",
   "execution_count": null,
   "metadata": {},
   "outputs": [],
   "source": [
    "# Convert to DataFrame\n",
    "df_batch = pd.DataFrame(parsed_documents)\n",
    "print(df_batch)"
   ]
  },
  {
   "cell_type": "markdown",
   "metadata": {},
   "source": [
    "## 2. Example 4: Extracting Product Information"
   ]
  },
  {
   "cell_type": "code",
   "execution_count": null,
   "metadata": {},
   "outputs": [],
   "source": [
    "import openai\n",
    "import requests\n",
    "import json\n",
    "\n",
    "# Sample product page HTML (simplified)\n",
    "sample_html = \"\"\"\n",
    "<div class=\"product-updated\">\n",
    "  <h3>Super Comfy Chair</h3>\n",
    "  <p class=\"price\">$199.99</p>\n",
    "  <ul class=\"features\">\n",
    "    <li>Ergonomic design</li>\n",
    "    <li>Adjustable height</li>\n",
    "    <li>360-degree swivel</li>\n",
    "  </ul>\n",
    "  <p class=\"availability\">In stock</p>\n",
    "</div>\n",
    "\"\"\"\n",
    "\n",
    "# OpenAI API call\n",
    "response = client.chat.completions.create(\n",
    "    model=\"gpt-4o-mini\",\n",
    "    messages=[\n",
    "        {\"role\": \"system\", \"content\": \"You are a helpful assistant that extracts product information from HTML.\"},\n",
    "        {\"role\": \"user\", \"content\": f\"Extract the product name, price, features, and availability from this HTML. Output in JSON form:\\n{sample_html}\"}\n",
    "    ],\n",
    "    response_format={\"type\": \"json_object\"}\n",
    ")\n",
    "\n",
    "# Print the extracted data\n",
    "print(json.dumps(json.loads(response.choices[0].message.content), indent=2))"
   ]
  },
  {
   "cell_type": "markdown",
   "metadata": {},
   "source": [
    "## 2. Example 5: Parsing News Articles"
   ]
  },
  {
   "cell_type": "code",
   "execution_count": null,
   "metadata": {},
   "outputs": [],
   "source": [
    "import requests\n",
    "from bs4 import BeautifulSoup\n",
    "\n",
    "# Fetch a sample news article\n",
    "url = \"https://www.eyebuydirect.ca/eyeglasses/frames/st-michel-rose-gold-s-20946\"\n",
    "response = requests.get(url)\n",
    "soup = BeautifulSoup(response.text, 'html.parser')\n",
    "\n",
    "# OpenAI API call\n",
    "response = client.chat.completions.create(\n",
    "    model=\"gpt-4o-mini\",\n",
    "    messages=[\n",
    "        {\"role\": \"system\", \"content\": \"You are a helpful assistant that extracts key information from news articles.\"},\n",
    "        {\"role\": \"user\", \"content\": f\"Extract the product name, price, and product description. Output in JSON form:\\n{str(response.text)}...\"}\n",
    "    ],\n",
    "    response_format={\"type\": \"json_object\"}\n",
    ")\n",
    "\n",
    "# Print the extracted data\n",
    "print(json.dumps(json.loads(response.choices[0].message.content), indent=2))"
   ]
  },
  {
   "cell_type": "markdown",
   "metadata": {},
   "source": [
    "## 2. Example 6: Extracting Tabular Data from HTML"
   ]
  },
  {
   "cell_type": "code",
   "execution_count": null,
   "metadata": {
    "scrolled": true
   },
   "outputs": [],
   "source": [
    "import pandas as pd\n",
    "\n",
    "# Sample HTML table\n",
    "html_table = \"\"\"\n",
    "<table>\n",
    "  <tr>\n",
    "    <th>Name</th>\n",
    "    <th>Age</th>\n",
    "    <th>City</th>\n",
    "  </tr>\n",
    "  <tr>\n",
    "    <td>John Doe</td>\n",
    "    <td>30</td>\n",
    "    <td>New York</td>\n",
    "  </tr>\n",
    "  <tr>\n",
    "    <td>Jane Smith</td>\n",
    "    <td>25</td>\n",
    "    <td>London</td>\n",
    "  </tr>\n",
    "  <tr>\n",
    "    <td>Bob Johnson</td>\n",
    "    <td>35</td>\n",
    "    <td>Paris</td>\n",
    "  </tr>\n",
    "</table>\n",
    "\"\"\"\n",
    "\n",
    "# OpenAI API call\n",
    "response = client.chat.completions.create(\n",
    "    model=\"gpt-4o-mini\",\n",
    "    messages=[\n",
    "        {\"role\": \"system\", \"content\": \"You are a helpful assistant that extracts tabular data from HTML.\"},\n",
    "        {\"role\": \"user\", \"content\": f\"Extract the data from this HTML table into a JSON format. Output in JSON form:\\n{html_table}\"}\n",
    "    ],\n",
    "    response_format={\"type\": \"json_object\"}\n",
    ")\n",
    "\n",
    "# Convert JSON to DataFrame\n",
    "data = json.loads(response.choices[0].message.content)\n",
    "df = pd.DataFrame(clean(data))\n",
    "\n",
    "# Display the DataFrame\n",
    "print(df)"
   ]
  },
  {
   "cell_type": "markdown",
   "metadata": {},
   "source": [
    "## 2. 7 - Gen AI for getting information out of pictures (e.g., receipts)"
   ]
  },
  {
   "cell_type": "code",
   "execution_count": null,
   "metadata": {},
   "outputs": [],
   "source": [
    "response = client.chat.completions.create(\n",
    "  model=\"gpt-4o-mini\",\n",
    "  messages=[\n",
    "    {\n",
    "      \"role\": \"user\",\n",
    "      \"content\": [\n",
    "        {\"type\": \"text\", \"text\": \"Extract the store name, date, and total. Put the results in a JSON, with keys 'store_name', 'date', and 'total'\"},\n",
    "        {\n",
    "          \"type\": \"image_url\",\n",
    "          \"image_url\": {\n",
    "            \"url\": \"<enter URL here>\",\n",
    "          },\n",
    "        },\n",
    "      ],\n",
    "    }\n",
    "  ],\n",
    "  max_tokens=300,\n",
    ")"
   ]
  },
  {
   "cell_type": "code",
   "execution_count": null,
   "metadata": {},
   "outputs": [],
   "source": [
    "print(response.choices[0].message.content)"
   ]
  },
  {
   "cell_type": "markdown",
   "metadata": {},
   "source": [
    "## 2. 8 - Examples of Gen AI for Entity Recognition <a name=\"examples\"></a>"
   ]
  },
  {
   "cell_type": "code",
   "execution_count": null,
   "metadata": {},
   "outputs": [],
   "source": [
    "from openai import OpenAI\n",
    "\n",
    "# Example 1: Basic Entity Recognition\n",
    "text = \"John Smith visited New York City on July 4, 2023, and met with the CEO of TechCorp.\"\n",
    "\n",
    "response = client.chat.completions.create(\n",
    "    model=\"gpt-4o-mini\",\n",
    "    messages=[\n",
    "        {\"role\": \"system\", \"content\": \"You are an AI assistant skilled in entity recognition.\"},\n",
    "        {\"role\": \"user\", \"content\": f\"Identify and categorize the named entities in the following text. Output in JSON form: {text}\"}\n",
    "    ],\n",
    "    response_format={\"type\": \"json_object\"}\n",
    ")\n",
    "\n",
    "print(response.choices[0].message.content)"
   ]
  },
  {
   "cell_type": "code",
   "execution_count": null,
   "metadata": {},
   "outputs": [],
   "source": [
    "# Example 2: Entity Recognition in a News Article\n",
    "news_article = \"\"\"\n",
    "On September 15, 2023, Apple Inc. unveiled its latest iPhone models at its headquarters in Cupertino, California. \n",
    "CEO Tim Cook presented the new devices, highlighting their advanced features. The event was attended by tech journalists from various publications, including The New York Times and TechCrunch.\n",
    "\"\"\"\n",
    "\n",
    "response = client.chat.completions.create(\n",
    "    model=\"gpt-4o-mini\",\n",
    "    messages=[\n",
    "        {\"role\": \"system\", \"content\": \"You are an AI assistant skilled in entity recognition.\"},\n",
    "        {\"role\": \"user\", \"content\": f\"Extract and categorize all named entities from this news article. Include categories such as PERSON, ORGANIZATION, DATE, LOCATION, and PRODUCT. Output in JSON form: {news_article}\"}\n",
    "    ],\n",
    "    response_format={\"type\": \"json_object\"}\n",
    ")\n",
    "\n",
    "print(response.choices[0].message.content)"
   ]
  },
  {
   "cell_type": "code",
   "execution_count": null,
   "metadata": {},
   "outputs": [],
   "source": [
    "# Example 3: Entity Recognition in Social Media Post\n",
    "social_media_post = \"\"\"\n",
    "Just landed in #Paris! 😍 Can't wait to visit the Eiffel Tower and the Louvre. \n",
    "Meeting up with @JaneDoeTravels tomorrow for a Seine river cruise. \n",
    "Any recommendations for the best cafes near Champs-Élysées? #TravelBlog #ParisAdventures\n",
    "\"\"\"\n",
    "\n",
    "response = client.chat.completions.create(\n",
    "    model=\"gpt-4o-mini\",\n",
    "    messages=[\n",
    "        {\"role\": \"system\", \"content\": \"You are an AI assistant skilled in entity recognition, especially in social media contexts.\"},\n",
    "        {\"role\": \"user\", \"content\": f\"Identify and categorize entities in this social media post, including locations, landmarks, usernames, and hashtags. Output in JSON form: {social_media_post}\"}\n",
    "    ],\n",
    "    response_format={\"type\": \"json_object\"}\n",
    ")\n",
    "\n",
    "print(response.choices[0].message.content)"
   ]
  },
  {
   "cell_type": "markdown",
   "metadata": {},
   "source": [
    "<a id='6'></a>\n",
    "## 3. References and Further Reading\n",
    "\n",
    "1. OpenAI API Documentation: https://platform.openai.com/docs/\n",
    "2. \"Natural Language Processing with Transformers\" by Lewis Tunstall, Leandro von Werra, and Thomas Wolf\n",
    "3. \"Information Extraction: Algorithms and Prospects in a Retrieval Context\" by Marie-Francine Moens\n",
    "4. \"Named Entity Recognition: A Literature Survey\" by David Nadeau and Satoshi Sekine\n",
    "5. \"Data Science for Business\" by Foster Provost and Tom Fawcett"
   ]
  },
  {
   "cell_type": "code",
   "execution_count": null,
   "metadata": {},
   "outputs": [],
   "source": []
  }
 ],
 "metadata": {
  "kernelspec": {
   "display_name": "Python 3 (ipykernel)",
   "language": "python",
   "name": "python3"
  },
  "language_info": {
   "codemirror_mode": {
    "name": "ipython",
    "version": 3
   },
   "file_extension": ".py",
   "mimetype": "text/x-python",
   "name": "python",
   "nbconvert_exporter": "python",
   "pygments_lexer": "ipython3",
   "version": "3.10.6"
  }
 },
 "nbformat": 4,
 "nbformat_minor": 4
}
