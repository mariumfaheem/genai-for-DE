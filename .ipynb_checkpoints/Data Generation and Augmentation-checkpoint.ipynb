{
 "cells": [
  {
   "cell_type": "markdown",
   "metadata": {},
   "source": [
    "# Data Generation and Augmentation\n",
    "\n",
    "## Table of Contents\n",
    "1. Introduction\n",
    "2. Examples\n",
    "3. References and Further Reading"
   ]
  },
  {
   "cell_type": "markdown",
   "metadata": {},
   "source": [
    "<a id='introduction'></a>\n",
    "## 1. Introduction\n",
    "\n",
    "Generative AI can be used for data generation and augmentation in several ways, particularly in creating realistic synthetic data based on specific situations:\n",
    "\n",
    "1. Creating realistic synthetic datasets\n",
    "2. Augmenting existing data with additional attributes\n",
    "3. Generating data patterns based on given prompts\n",
    "4. Filling in missing data points\n",
    "5. Simulating various scenarios for testing and analysis\n",
    "6. Creating diverse datasets: Gen AI can generate a wide range of data points that mimic real-world scenarios.\n",
    "7. Augmenting existing datasets: It can add variations to existing data, increasing dataset size and diversity.\n",
    "8. Generating rare or edge cases: AI can create data for uncommon scenarios that are hard to collect naturally.\n",
    "9. Preserving privacy: Synthetic data can be used instead of sensitive real data for testing and development.\n",
    "10. Balancing datasets: Gen AI can create additional samples for underrepresented classes in imbalanced datasets.\n",
    "   \n",
    "Using Gen AI for synthetic data creation offers several benefits:\n",
    "\n",
    "- Overcoming data scarcity\n",
    "- Protecting privacy by avoiding real user data\n",
    "- Creating diverse datasets for robust model training\n",
    "- Simulating rare events or edge cases\n",
    "- Rapid prototyping and testing of data-driven systems\n",
    "- Increases dataset size, improving model performance.\n",
    "- Enhances dataset diversity, reducing bias.\n",
    "- Saves time compared to manual data collection.\n",
    "- Allows exploration of 'what-if' scenarios.\n",
    "\n",
    "Key terminology:\n",
    "- Synthetic Data: Artificially generated data that mimics real-world data\n",
    "- Data Augmentation: Techniques to increase the amount and diversity of data\n",
    "- Prompt: A text input that guides the AI in generating specific types of data\n",
    "- Pattern: A repeating structure or trend in the data that the AI can learn and replicate\n",
    "\n",
    "For data engineers, Gen AI-based synthetic data creation can be particularly helpful in:\n",
    "- Testing data pipelines with diverse and large-scale datasets\n",
    "- Developing and validating data models without risking real, sensitive data\n",
    "- Creating representative datasets for machine learning model training\n",
    "- Simulating various data scenarios for system stress testing"
   ]
  },
  {
   "cell_type": "code",
   "execution_count": null,
   "metadata": {},
   "outputs": [],
   "source": [
    "!pip install openai pandas scikit-learn matplotlib"
   ]
  },
  {
   "cell_type": "code",
   "execution_count": null,
   "metadata": {},
   "outputs": [],
   "source": [
    "import openai\n",
    "import pandas as pd\n",
    "import json\n",
    "from openai import OpenAI\n",
    "import numpy as np\n",
    "from pprint import pprint\n",
    "\n",
    "\n",
    "# Set up OpenAI API key\n",
    "client = OpenAI(api_key='')\n",
    "\n",
    "def clean(dict_variable):\n",
    "    return next(iter(dict_variable.values()))"
   ]
  },
  {
   "cell_type": "code",
   "execution_count": null,
   "metadata": {},
   "outputs": [],
   "source": [
    "# test our API call\n",
    "completion = client.chat.completions.create(\n",
    "    model=\"gpt-4o-mini\",\n",
    "    messages=[\n",
    "        {\"role\": \"user\", \"content\": \"tell me a slogan for an ice cream company. Return as a JSON object.\"},\n",
    "    ],\n",
    "    response_format={\"type\": \"json_object\"}\n",
    ")"
   ]
  },
  {
   "cell_type": "code",
   "execution_count": null,
   "metadata": {},
   "outputs": [],
   "source": [
    "n = json.loads(completion.choices[0].message.content)"
   ]
  },
  {
   "cell_type": "code",
   "execution_count": null,
   "metadata": {},
   "outputs": [],
   "source": [
    "clean(n)"
   ]
  },
  {
   "cell_type": "markdown",
   "metadata": {},
   "source": [
    "<a id='example1'></a>\n",
    "## 2. Example 1: Generating Synthetic Data"
   ]
  },
  {
   "cell_type": "code",
   "execution_count": null,
   "metadata": {
    "scrolled": true
   },
   "outputs": [],
   "source": [
    "prompt = \"Generate synthetic sales data for an e-commerce platform. Include fields for date, customer_id (Customer ###), order total (in $USD). For certain orders, the order total should be negative. Create data for 10 customers. Output in JSON form.\"\n",
    "\n",
    "response = client.chat.completions.create(\n",
    "    model=\"gpt-4o-mini\",\n",
    "    messages=[{\"role\": \"user\", \"content\": prompt}],\n",
    "    response_format={\"type\": \"json_object\"}\n",
    ")\n",
    "\n",
    "customer_data = json.loads(response.choices[0].message.content)\n",
    "print(json.dumps(customer_data, indent=2))"
   ]
  },
  {
   "cell_type": "code",
   "execution_count": null,
   "metadata": {},
   "outputs": [],
   "source": [
    "# Convert to DataFrame\n",
    "df_customers = pd.DataFrame(clean(customer_data))\n",
    "print(df_customers)"
   ]
  },
  {
   "cell_type": "code",
   "execution_count": null,
   "metadata": {},
   "outputs": [],
   "source": [
    "prompt = \"\"\"Generate 5 synthetic product reviews for a smartphone. Include fields for review_id, rating (1-5), and review_text. Output in JSON form.\"\"\"\n",
    "\n",
    "response = client.chat.completions.create(\n",
    "    model=\"gpt-4o-mini\",\n",
    "    messages=[{\"role\": \"user\", \"content\": prompt}],\n",
    "    response_format={\"type\": \"json_object\"}\n",
    ")\n",
    "\n",
    "review_data = json.loads(response.choices[0].message.content)\n",
    "print(json.dumps(review_data, indent=2))"
   ]
  },
  {
   "cell_type": "code",
   "execution_count": null,
   "metadata": {},
   "outputs": [],
   "source": [
    "# Convert to DataFrame\n",
    "df_reviews = pd.DataFrame(clean(review_data))\n",
    "print(df_reviews)"
   ]
  },
  {
   "cell_type": "markdown",
   "metadata": {},
   "source": [
    "<a id='example2'></a>\n",
    "## 2. Example 2: Augmenting Existing Data"
   ]
  },
  {
   "cell_type": "code",
   "execution_count": null,
   "metadata": {
    "scrolled": true
   },
   "outputs": [],
   "source": [
    "# Assuming we have an existing dataset\n",
    "existing_data = pd.DataFrame({\n",
    "    'product': ['Laptop', 'Smartphone'],\n",
    "    'price': [1200, 800],\n",
    "    'category': ['Electronics', 'Electronics']\n",
    "})\n",
    "print(\"Existing Data:\")\n",
    "print(existing_data)\n",
    "\n",
    "prompt = f\"\"\"Given this product data: {existing_data.to_dict('records')}, \n",
    "generate 3 additional products in the same format, maintaining similar patterns but with different values. Output in JSON form.\"\"\"\n",
    "\n",
    "response = client.chat.completions.create(\n",
    "    model=\"gpt-4o-mini\",\n",
    "    messages=[{\"role\": \"user\", \"content\": prompt}],\n",
    "    response_format={\"type\": \"json_object\"}\n",
    ")\n",
    "\n",
    "new_products = clean(json.loads(response.choices[0].message.content))\n",
    "print(\"\\nGenerated New Products:\")\n",
    "print(json.dumps(new_products, indent=2))"
   ]
  },
  {
   "cell_type": "code",
   "execution_count": null,
   "metadata": {},
   "outputs": [],
   "source": [
    "print(pd.DataFrame(data=new_products))"
   ]
  },
  {
   "cell_type": "code",
   "execution_count": null,
   "metadata": {},
   "outputs": [],
   "source": [
    "# Original dataset\n",
    "original_data = [\n",
    "    {\"id\": 1, \"age\": 25, \"income\": 50000},\n",
    "    {\"id\": 2, \"age\": 40, \"income\": 75000}\n",
    "]\n",
    "\n",
    "print(\"Original data:\")\n",
    "print(json.dumps(original_data, indent=2))"
   ]
  },
  {
   "cell_type": "code",
   "execution_count": null,
   "metadata": {},
   "outputs": [],
   "source": [
    "prompt = f\"Generate 3 new data points similar to these, maintaining realistic relationships between age and income. Output in JSON form: {json.dumps(original_data)}\"\n",
    "\n",
    "response = client.chat.completions.create(\n",
    "    model=\"gpt-4o-mini\",\n",
    "    messages=[{\"role\": \"user\", \"content\": prompt}],\n",
    "    response_format={\"type\": \"json_object\"}\n",
    ")\n",
    "\n",
    "new_data = json.loads(response.choices[0].message.content)\n",
    "\n",
    "augmented_data = original_data + clean(new_data)\n",
    "\n",
    "print(\"Augmented data:\")\n",
    "print(json.dumps(augmented_data, indent=2))"
   ]
  },
  {
   "cell_type": "code",
   "execution_count": null,
   "metadata": {},
   "outputs": [],
   "source": [
    "pd.DataFrame(augmented_data).sort_values('age')"
   ]
  },
  {
   "cell_type": "markdown",
   "metadata": {},
   "source": [
    "<a id='example3'></a>\n",
    "## 2. Example 3: Creating Time Series Data"
   ]
  },
  {
   "cell_type": "code",
   "execution_count": null,
   "metadata": {
    "scrolled": true
   },
   "outputs": [],
   "source": [
    "prompt = \"Generate synthetic daily sales data for a coffee shop for over 4 weeks, for product. Include date and total_sales. Show a realistic pattern with weekend peaks. Output in JSON form.\"\n",
    "\n",
    "response = client.chat.completions.create(\n",
    "    model=\"gpt-4o-mini\",\n",
    "    messages=[{\"role\": \"user\", \"content\": prompt}],\n",
    "    response_format={\"type\": \"json_object\"}\n",
    ")\n",
    "\n",
    "sales_data = json.loads(response.choices[0].message.content)\n",
    "print(json.dumps(sales_data, indent=2))"
   ]
  },
  {
   "cell_type": "code",
   "execution_count": null,
   "metadata": {
    "scrolled": true
   },
   "outputs": [],
   "source": [
    "# Convert to DataFrame\n",
    "df_sales = pd.DataFrame(clean(sales_data))\n",
    "df_sales['date'] = pd.to_datetime(df_sales['date'])\n",
    "print(df_sales)"
   ]
  },
  {
   "cell_type": "code",
   "execution_count": null,
   "metadata": {},
   "outputs": [],
   "source": [
    "# visualize it\n",
    "import matplotlib.pyplot as plt\n",
    "\n",
    "# Plotting the data\n",
    "plt.figure(figsize=(10, 6))\n",
    "plt.plot(df_sales['date'], df_sales['total_sales'], marker='o', linestyle='-', color='b')\n",
    "\n",
    "plt.title('Total Sales Over Time')\n",
    "plt.xlabel('Date')\n",
    "plt.ylabel('Total Sales')\n",
    "plt.grid(True)\n",
    "plt.xticks(rotation=45)\n",
    "plt.tight_layout()\n",
    "\n",
    "# Show the plot\n",
    "plt.show()"
   ]
  },
  {
   "cell_type": "markdown",
   "metadata": {},
   "source": [
    "<a id='3'></a>\n",
    "## 2. Example 4: Generating Edge Cases for a Weather Dataset"
   ]
  },
  {
   "cell_type": "code",
   "execution_count": null,
   "metadata": {},
   "outputs": [],
   "source": [
    "# Create a standard weather dataset\n",
    "weather_data = pd.DataFrame({\n",
    "    'date': pd.date_range(start='2023-01-01', periods=100),\n",
    "    'temperature': np.random.uniform(0, 30, 100),\n",
    "    'precipitation': np.random.uniform(0, 50, 100),\n",
    "    'wind_speed': np.random.uniform(0, 20, 100)\n",
    "})\n",
    "\n",
    "print(weather_data.head())\n",
    "print(f\"\\nTemperature range: {weather_data['temperature'].min():.2f} to {weather_data['temperature'].max():.2f}\")\n",
    "print(f\"Precipitation range: {weather_data['precipitation'].min():.2f} to {weather_data['precipitation'].max():.2f}\")\n",
    "print(f\"Wind speed range: {weather_data['wind_speed'].min():.2f} to {weather_data['wind_speed'].max():.2f}\")"
   ]
  },
  {
   "cell_type": "code",
   "execution_count": null,
   "metadata": {},
   "outputs": [],
   "source": [
    "# Use Gen AI to generate edge cases for weather data\n",
    "prompt = \"Generate 5 edge cases for a weather dataset with temperature (°C), precipitation (mm), and wind speed (m/s). Include extreme but plausible values. Output in JSON form\"\n",
    "\n",
    "response = client.chat.completions.create(\n",
    "    model=\"gpt-4o-mini\",\n",
    "    messages=[{\"role\": \"user\", \"content\": prompt}],\n",
    "    response_format={\"type\": \"json_object\"}\n",
    ")\n",
    "\n",
    "edge_cases = json.loads(response.choices[0].message.content)\n",
    "pprint(edge_cases)"
   ]
  },
  {
   "cell_type": "code",
   "execution_count": null,
   "metadata": {},
   "outputs": [],
   "source": [
    "# Add edge cases to the weather dataset\n",
    "for case in clean(edge_cases):\n",
    "    new_row = {\n",
    "        'date': pd.Timestamp.now(),\n",
    "        'temperature': case['temperature'],\n",
    "        'precipitation': case['precipitation'],\n",
    "        'wind_speed': case['wind_speed']\n",
    "    }\n",
    "    new_row_df = pd.DataFrame([new_row])\n",
    "    weather_data = pd.concat([weather_data, new_row_df], ignore_index=True)\n",
    "\n",
    "print(weather_data.tail())\n",
    "print(f\"\\nUpdated temperature range: {weather_data['temperature'].min():.2f} to {weather_data['temperature'].max():.2f}\")\n",
    "print(f\"Updated precipitation range: {weather_data['precipitation'].min():.2f} to {weather_data['precipitation'].max():.2f}\")\n",
    "print(f\"Updated wind speed range: {weather_data['wind_speed'].min():.2f} to {weather_data['wind_speed'].max():.2f}\")"
   ]
  },
  {
   "cell_type": "markdown",
   "metadata": {},
   "source": [
    "## 2. Example 5: Creating a Sample DataFrame with PII"
   ]
  },
  {
   "cell_type": "code",
   "execution_count": null,
   "metadata": {},
   "outputs": [],
   "source": [
    "data = {\n",
    "    'Name': ['John Doe', 'Jane Smith', 'Bob Johnson'],\n",
    "    'Email': ['john@example.com', 'jane@example.com', 'bob@example.com'],\n",
    "    'Phone': ['123-456-7890', '234-567-8901', '345-678-9012'],\n",
    "    'Age': [30, 25, 45],\n",
    "    'Salary': [50000, 60000, 75000]\n",
    "}\n",
    "\n",
    "df = pd.DataFrame(data)\n",
    "print(df)"
   ]
  },
  {
   "cell_type": "code",
   "execution_count": null,
   "metadata": {},
   "outputs": [],
   "source": [
    "prompt = f\"\"\"Mask the following PII data. Keep the Age and Salary as is. Output in JSON form.\n",
    "Original data:\n",
    "{df.to_json(orient='records')}\n",
    "\"\"\"\n",
    "\n",
    "response = client.chat.completions.create(\n",
    "    model=\"gpt-4o-mini\",\n",
    "    messages=[{\"role\": \"user\", \"content\": prompt}],\n",
    "    response_format={\"type\": \"json_object\"}\n",
    ")\n",
    "\n",
    "masked_data = json.loads(response.choices[0].message.content)\n",
    "masked_df = pd.DataFrame(clean(masked_data))\n",
    "print(masked_df)"
   ]
  },
  {
   "cell_type": "code",
   "execution_count": null,
   "metadata": {},
   "outputs": [],
   "source": [
    "prompt = f\"\"\"Generate synthetic data similar to the following, but with different PII. Keep the Age and Salary distributions similar. Output in JSON form.\n",
    "Original data:\n",
    "{df.to_json(orient='records')}\n",
    "\"\"\"\n",
    "\n",
    "response = client.chat.completions.create(\n",
    "    model=\"gpt-4o-mini\",\n",
    "    messages=[{\"role\": \"user\", \"content\": prompt}],\n",
    "    response_format={\"type\": \"json_object\"}\n",
    ")\n",
    "\n",
    "synthetic_data = json.loads(response.choices[0].message.content)\n",
    "synthetic_df = pd.DataFrame(clean(synthetic_data))\n",
    "print(synthetic_df)"
   ]
  },
  {
   "cell_type": "code",
   "execution_count": null,
   "metadata": {},
   "outputs": [],
   "source": [
    "pii_text = 'My name is Henry and I live in Toronto and I was having trouble accessing my bank account (account ID: 125526). \\\n",
    "    Could you please help me?'\n",
    "\n",
    "response = client.chat.completions.create(\n",
    "    model=\"gpt-4o-mini\",\n",
    "    messages=[{\"role\": \"user\", \"content\": \"Remove any PII from the following text, replace it with *: {}\".format(pii_text)}]\n",
    ")\n",
    "\n",
    "print(response.choices[0].message.content)"
   ]
  },
  {
   "cell_type": "markdown",
   "metadata": {},
   "source": [
    "## 2. Example 6: Generating Synthetic Samples for an Imbalanced Dataset"
   ]
  },
  {
   "cell_type": "code",
   "execution_count": null,
   "metadata": {},
   "outputs": [],
   "source": [
    "import pandas as pd\n",
    "import numpy as np\n",
    "\n",
    "# Create an unbalanced dataset of product reviews\n",
    "positive_reviews = [\n",
    "    \"This product is amazing! I love it!\",\n",
    "    \"Great quality and fast shipping.\",\n",
    "    \"Exceeded my expectations. Highly recommended!\",\n",
    "    \"Best purchase I've made in years.\",\n",
    "    \"Fantastic product, will buy again.\"\n",
    "]\n",
    "\n",
    "negative_reviews = [\n",
    "    \"Disappointed with the quality.\"\n",
    "]\n",
    "\n",
    "reviews = positive_reviews + negative_reviews\n",
    "labels = [1] * len(positive_reviews) + [0] * len(negative_reviews)\n",
    "\n",
    "df = pd.DataFrame({'review': reviews, 'sentiment': labels})\n",
    "print(df)\n",
    "print(f\"\\nClass distribution:\\n{df['sentiment'].value_counts()}\")"
   ]
  },
  {
   "cell_type": "code",
   "execution_count": null,
   "metadata": {},
   "outputs": [],
   "source": [
    "# Function to generate negative reviews\n",
    "def generate_negative_review():\n",
    "    response = client.chat.completions.create(\n",
    "        model=\"gpt-4o-mini\",\n",
    "        messages=[\n",
    "            {\"role\": \"system\", \"content\": \"You are a helpful assistant that generates product reviews.\"},\n",
    "            {\"role\": \"user\", \"content\": \"Generate a negative product review similar to these negative reviews: {}. Output in JSON form.\".format(negative_reviews)}\n",
    "        ],\n",
    "        response_format={\"type\": \"json_object\"}\n",
    "    )\n",
    "    return clean(json.loads(response.choices[0].message.content))\n",
    "\n",
    "# Generate additional negative reviews\n",
    "num_to_generate = len(positive_reviews) - len(negative_reviews)\n",
    "new_negative_reviews = [generate_negative_review() for _ in range(num_to_generate)]\n",
    "\n",
    "# Add new negative reviews to the dataset\n",
    "new_data = pd.DataFrame({'review': new_negative_reviews, 'sentiment': [0] * len(new_negative_reviews)})\n",
    "df_balanced = pd.concat([df, new_data], ignore_index=True)\n",
    "\n",
    "print(df_balanced)\n",
    "print(f\"\\nNew class distribution:\\n{df_balanced['sentiment'].value_counts()}\")"
   ]
  },
  {
   "cell_type": "code",
   "execution_count": null,
   "metadata": {},
   "outputs": [],
   "source": [
    "import matplotlib.pyplot as plt\n",
    "\n",
    "# Visualize class distribution\n",
    "plt.figure(figsize=(10, 5))\n",
    "df_balanced['sentiment'].value_counts().plot(kind='bar')\n",
    "plt.title('Class Distribution in Balanced Dataset')\n",
    "plt.xlabel('Sentiment')\n",
    "plt.ylabel('Count')\n",
    "plt.xticks([0, 1], ['Negative', 'Positive'])\n",
    "plt.show()\n",
    "\n",
    "# Display some generated negative reviews\n",
    "print(\"Sample of generated negative reviews:\")\n",
    "print(df_balanced[df_balanced['sentiment'] == 0]['review'].head())"
   ]
  },
  {
   "cell_type": "markdown",
   "metadata": {},
   "source": [
    "<a id='references'></a>\n",
    "## 3. References and Further Reading\n",
    "\n",
    "1. OpenAI API Documentation: https://platform.openai.com/docs/\n",
    "2. \"Synthetic Data for Deep Learning\" by Sergey I. Nikolenko\n",
    "3. \"The Synthetic Data Vault\" by Neha Patki et al.\n",
    "4. \"Data Augmentation in Time Series Domain\" by Eamonn Keogh and Jessica Lin\n",
    "5. \"Generative AI: A Creative New World\" by McKinsey & Company"
   ]
  }
 ],
 "metadata": {
  "kernelspec": {
   "display_name": "Python 3 (ipykernel)",
   "language": "python",
   "name": "python3"
  },
  "language_info": {
   "codemirror_mode": {
    "name": "ipython",
    "version": 3
   },
   "file_extension": ".py",
   "mimetype": "text/x-python",
   "name": "python",
   "nbconvert_exporter": "python",
   "pygments_lexer": "ipython3",
   "version": "3.10.6"
  }
 },
 "nbformat": 4,
 "nbformat_minor": 4
}
